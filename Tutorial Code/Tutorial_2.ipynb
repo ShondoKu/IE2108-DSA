{
 "cells": [
  {
   "cell_type": "markdown",
   "metadata": {},
   "source": [
    "# Tutorial 2"
   ]
  },
  {
   "cell_type": "markdown",
   "metadata": {},
   "source": [
    "## 1."
   ]
  },
  {
   "cell_type": "code",
   "execution_count": 1,
   "metadata": {},
   "outputs": [],
   "source": [
    "import math\n",
    "import sys\n"
   ]
  },
  {
   "cell_type": "code",
   "execution_count": 4,
   "metadata": {},
   "outputs": [
    {
     "name": "stdout",
     "output_type": "stream",
     "text": [
      "4.754887502163468\n"
     ]
    },
    {
     "ename": "SystemExit",
     "evalue": "",
     "output_type": "error",
     "traceback": [
      "An exception has occurred, use %tb to see the full traceback.\n",
      "\u001b[1;31mSystemExit\u001b[0m\n"
     ]
    }
   ],
   "source": [
    "i = 0 \n",
    "def log2(x):\n",
    "    return math.log2(x)\n",
    "def pow(x,y):\n",
    "    return math.pow(x,y)\n",
    "\n",
    "while i != 1:\n",
    "    x = float(input(\"base number: \"))\n",
    "    y = float(input(\"power number: \"))\n",
    "    numtolog = pow(x,y)\n",
    "    resultoflog = log2(numtolog)\n",
    "    print(str(resultoflog))\n",
    "    option = input(\"Do again? (y/n)\")\n",
    "    if option == 'n':\n",
    "        i = 1\n",
    "    else:\n",
    "        continue\n",
    "    \n",
    "sys.exit()"
   ]
  },
  {
   "cell_type": "markdown",
   "metadata": {},
   "source": [
    "## 2."
   ]
  },
  {
   "cell_type": "code",
   "execution_count": 26,
   "metadata": {},
   "outputs": [
    {
     "name": "stdout",
     "output_type": "stream",
     "text": [
      "For number 3.2,\n",
      "floor function produces: 3\n",
      "ceiling function produces: 4\n"
     ]
    }
   ],
   "source": [
    "x = float(input(\"Inout float number: \"))\n",
    "def floor_function(x):\n",
    "    return math.floor(x)\n",
    "\n",
    "def ceiling_function(x):\n",
    "    return math.ceil(x)\n",
    "\n",
    "print('For number {x},\\nfloor function produces: {floor}\\nceiling function produces: {ceiling}'.format(x=x,floor = floor_function(x),ceiling = ceiling_function(x)))\n",
    "\n",
    "\n"
   ]
  },
  {
   "cell_type": "markdown",
   "metadata": {},
   "source": [
    "## 3."
   ]
  },
  {
   "cell_type": "code",
   "execution_count": 28,
   "metadata": {},
   "outputs": [
    {
     "name": "stdout",
     "output_type": "stream",
     "text": [
      "True\n"
     ]
    }
   ],
   "source": [
    "x = int(input('give me number:'))\n",
    "print(math.factorial(x) == x*math.factorial(x-1))"
   ]
  },
  {
   "cell_type": "markdown",
   "metadata": {},
   "source": [
    "## 4."
   ]
  },
  {
   "cell_type": "code",
   "execution_count": 33,
   "metadata": {},
   "outputs": [
    {
     "name": "stdout",
     "output_type": "stream",
     "text": [
      "4.0\n"
     ]
    }
   ],
   "source": [
    "n = int(input('n?'))\n",
    "r = int(input('r?'))\n",
    "\n",
    "def binomial(n,r):\n",
    "    return math.factorial(n)/(math.factorial(r)*(math.factorial(n-r)))\n",
    "\n",
    "print(binomial(n,r))"
   ]
  },
  {
   "cell_type": "markdown",
   "metadata": {},
   "source": [
    "## 5."
   ]
  },
  {
   "cell_type": "code",
   "execution_count": 14,
   "metadata": {},
   "outputs": [
    {
     "name": "stdout",
     "output_type": "stream",
     "text": [
      "0\n",
      "1.0\n",
      "1\n",
      "3.0\n",
      "2\n",
      "7.0\n",
      "7.0\n"
     ]
    }
   ],
   "source": [
    "x = 0\n",
    "result = 0\n",
    "while x < 1:\n",
    "    x = int(input('i? (>=1)'))\n",
    "    if x >= 1:\n",
    "        break\n",
    "    else:\n",
    "        continue\n",
    "\n",
    "for i in range(0,x):\n",
    "    result += math.pow(2,i)\n",
    "print(result)"
   ]
  }
 ],
 "metadata": {
  "kernelspec": {
   "display_name": "IE2108_DSA-env",
   "language": "python",
   "name": "python3"
  },
  "language_info": {
   "codemirror_mode": {
    "name": "ipython",
    "version": 3
   },
   "file_extension": ".py",
   "mimetype": "text/x-python",
   "name": "python",
   "nbconvert_exporter": "python",
   "pygments_lexer": "ipython3",
   "version": "3.12.0"
  }
 },
 "nbformat": 4,
 "nbformat_minor": 2
}
